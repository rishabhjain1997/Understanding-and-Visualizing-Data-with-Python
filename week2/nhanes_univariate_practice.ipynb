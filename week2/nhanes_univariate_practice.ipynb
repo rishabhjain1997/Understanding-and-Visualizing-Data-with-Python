{
 "cells": [
  {
   "cell_type": "markdown",
   "metadata": {},
   "source": [
    "# Practice notebook for univariate analysis using NHANES data\n",
    "\n",
    "This notebook will give you the opportunity to perform some univariate analyses on your own using the NHANES.  These analyses are similar to what was done in the week 2 NHANES case study notebook.\n",
    "\n",
    "You can enter your code into the cells that say \"enter your code here\", and you can type responses to the questions into the cells that say \"Type Markdown and Latex\".\n",
    "\n",
    "Note that most of the code that you will need to write below is very similar to code that appears in the case study notebook.  You will need to edit code from that notebook in small ways to adapt it to the prompts below.\n",
    "\n",
    "To get started, we will use the same module imports and read the data in the same way as we did in the case study:"
   ]
  },
  {
   "cell_type": "code",
   "execution_count": 2,
   "metadata": {},
   "outputs": [],
   "source": [
    "%matplotlib inline\n",
    "import matplotlib.pyplot as plt\n",
    "import seaborn as sns\n",
    "import pandas as pd\n",
    "import statsmodels.api as sm\n",
    "import numpy as np\n",
    "\n",
    "da = pd.read_csv(\"nhanes_2015_2016.csv\")"
   ]
  },
  {
   "cell_type": "markdown",
   "metadata": {},
   "source": [
    "## Question 1\n",
    "\n",
    "Relabel the marital status variable [DMDMARTL](https://wwwn.cdc.gov/Nchs/Nhanes/2015-2016/DEMO_I.htm#DMDMARTL) to have brief but informative character labels.  Then construct a frequency table of these values for all people, then for women only, and for men only.  Then construct these three frequency tables using only people whose age is between 30 and 40."
   ]
  },
  {
   "cell_type": "code",
   "execution_count": 29,
   "metadata": {},
   "outputs": [
    {
     "name": "stdout",
     "output_type": "stream",
     "text": [
      "Frequency count for all people\n",
      "Married                0.507855\n",
      "Never married          0.183412\n",
      "Divorced               0.105773\n",
      "Living with partner    0.096273\n",
      "Widowed                0.072342\n",
      "Separated              0.033979\n",
      "Refused                0.000365\n",
      "Name: DMDMARTL, dtype: float64 \n",
      "\n",
      "Frequency count for men\n",
      "Married                0.562881\n",
      "Never married          0.184451\n",
      "Living with partner    0.100991\n",
      "Divorced               0.087271\n",
      "Widowed                0.038110\n",
      "Separated              0.025915\n",
      "Refused                0.000381\n",
      "Name: DMDMARTL, dtype: float64 \n",
      "\n",
      "Frequency count for women\n",
      "Married                0.457193\n",
      "Never married          0.182456\n",
      "Divorced               0.122807\n",
      "Widowed                0.103860\n",
      "Living with partner    0.091930\n",
      "Separated              0.041404\n",
      "Refused                0.000351\n",
      "Name: DMDMARTL, dtype: float64 \n",
      "\n",
      "For people whose age is between 30 and 40: \n",
      "\n",
      "Frequency count for all people\n",
      "Married                0.613636\n",
      "Never married          0.204545\n",
      "Divorced               0.090909\n",
      "Separated              0.068182\n",
      "Living with partner    0.022727\n",
      "Name: DMDMARTL, dtype: float64 \n",
      "\n",
      "Frequency count for men\n",
      "Married                0.769231\n",
      "Divorced               0.076923\n",
      "Living with partner    0.076923\n",
      "Never married          0.076923\n",
      "Name: DMDMARTL, dtype: float64 \n",
      "\n",
      "Frequency count for women\n",
      "Married          0.548387\n",
      "Never married    0.258065\n",
      "Separated        0.096774\n",
      "Divorced         0.096774\n",
      "Name: DMDMARTL, dtype: float64 \n",
      "\n"
     ]
    }
   ],
   "source": [
    "da = pd.read_csv(\"nhanes_2015_2016.csv\")\n",
    "da['DMDMARTL'] = da['DMDMARTL'].replace({1:\"Married\",2:\"Widowed\",3:\"Divorced\",4:\"Separated\", 5:\"Never married\", 6:\"Living with partner\",77:\"Refused\",99:\"Don't know\"})\n",
    "print(\"Frequency count for all people\")\n",
    "print(da['DMDMARTL'].value_counts()/(da['DMDMARTL'].value_counts().sum()),\"\\n\")\n",
    "da[\"RIAGENDR\"] = da[\"RIAGENDR\"].replace({1:\"Male\",2:\"Female\"})\n",
    "male_da = da[da[\"RIAGENDR\"] == \"Male\"]\n",
    "female_da = da[da[\"RIAGENDR\"] == \"Female\"]\n",
    "\n",
    "print(\"Frequency count for men\")\n",
    "print(male_da['DMDMARTL'].value_counts()/(male_da['DMDMARTL'].value_counts().sum()),\"\\n\")\n",
    "print(\"Frequency count for women\")\n",
    "print(female_da['DMDMARTL'].value_counts()/(female_da['DMDMARTL'].value_counts().sum()),\"\\n\")\n",
    "print(\"For people whose age is between 30 and 40:\",\"\\n\")\n",
    "print(\"Frequency count for all people\")\n",
    "new_age_group = da.where((da['RIDAGEYR'] >= 30) & (da['RIDAGEYR'] <= 40)).dropna()\n",
    "print(new_age_group['DMDMARTL'].value_counts()/(new_age_group['DMDMARTL'].value_counts().sum()),\"\\n\")\n",
    "print(\"Frequency count for men\")\n",
    "male_da = new_age_group[new_age_group[\"RIAGENDR\"] == \"Male\"]\n",
    "female_da = new_age_group[new_age_group[\"RIAGENDR\"] == \"Female\"]\n",
    "print(male_da['DMDMARTL'].value_counts()/(male_da['DMDMARTL'].value_counts().sum()),\"\\n\")\n",
    "print(\"Frequency count for women\")\n",
    "print(female_da['DMDMARTL'].value_counts()/(female_da['DMDMARTL'].value_counts().sum()),\"\\n\")"
   ]
  },
  {
   "cell_type": "markdown",
   "metadata": {},
   "source": [
    "__Q1a.__ Briefly comment on some of the differences that you observe between the distribution of marital status between women and men, for people of all ages."
   ]
  },
  {
   "cell_type": "raw",
   "metadata": {},
   "source": [
    "According to the summary statistics, 50 per cent of all respondents are married. While 56% of male respondents have listed their marital status as married, only 46% women are married. We observe that the percentage of respondents who didn't marry is consistent in both groups at 18%. We observe that the percentage of divorced men is much lower than women, with 12% percent of female respondents identifying as divorced while only 8% male respondents identifying as divorced. Live-in relationships are consistent among both sexes with around 10% respondents admitting to living in with their partner. Widowhood is much higher in females as compared to males with 10% of female respondents identifying as widows while the number is only at 3% for male respondents."
   ]
  },
  {
   "cell_type": "markdown",
   "metadata": {},
   "source": [
    "__Q1b.__ Briefly comment on the differences that you observe between the distribution of marital status states for women between the overall population, and for women between the ages of 30 and 40."
   ]
  },
  {
   "cell_type": "raw",
   "metadata": {},
   "source": [
    "We observe that around 55% of women in the 30-40 year age group are married as compared to 46% for the overall population. We also observe that more women identify as \"never married\" in the 30-40 year old age group with 25% respondents admitting to have never married in the said group, significantly higher than 18% in the overall population."
   ]
  },
  {
   "cell_type": "markdown",
   "metadata": {},
   "source": [
    "__Q1c.__ Repeat part b for the men."
   ]
  },
  {
   "cell_type": "raw",
   "metadata": {},
   "source": [
    "We observe that the proportion of married men  in the 30-40 year old age group is far greater than the overall population at 77% as compared to 57% in the overall population. The proportion of men who identify as \"not married\", \"divorced\" or \"living with partner\" is far lower than the overall population at around 7 per cent as compared to 18%, 8% and 10% respectively in the overall population."
   ]
  },
  {
   "cell_type": "markdown",
   "metadata": {},
   "source": [
    "## Question 2\n",
    "\n",
    "Restricting to the female population, stratify the subjects into age bands no wider than ten years, and construct the distribution of marital status within each age band.  Within each age band, present the distribution in terms of proportions that must sum to 1."
   ]
  },
  {
   "cell_type": "code",
   "execution_count": 55,
   "metadata": {},
   "outputs": [
    {
     "name": "stderr",
     "output_type": "stream",
     "text": [
      "<ipython-input-55-eb47ad391317>:5: SettingWithCopyWarning: \n",
      "A value is trying to be set on a copy of a slice from a DataFrame.\n",
      "Try using .loc[row_indexer,col_indexer] = value instead\n",
      "\n",
      "See the caveats in the documentation: https://pandas.pydata.org/pandas-docs/stable/user_guide/indexing.html#returning-a-view-versus-a-copy\n",
      "  df['age_grp'] = pd.cut(df.RIDAGEYR,[18,20,30,40,50,60,70,80])\n"
     ]
    },
    {
     "data": {
      "text/html": [
       "<div>\n",
       "<style scoped>\n",
       "    .dataframe tbody tr th:only-of-type {\n",
       "        vertical-align: middle;\n",
       "    }\n",
       "\n",
       "    .dataframe tbody tr th {\n",
       "        vertical-align: top;\n",
       "    }\n",
       "\n",
       "    .dataframe thead th {\n",
       "        text-align: right;\n",
       "    }\n",
       "</style>\n",
       "<table border=\"1\" class=\"dataframe\">\n",
       "  <thead>\n",
       "    <tr style=\"text-align: right;\">\n",
       "      <th>DMDMARTL</th>\n",
       "      <th>Divorced</th>\n",
       "      <th>Living with partner</th>\n",
       "      <th>Married</th>\n",
       "      <th>Never married</th>\n",
       "      <th>Refused</th>\n",
       "      <th>Separated</th>\n",
       "      <th>Widowed</th>\n",
       "    </tr>\n",
       "    <tr>\n",
       "      <th>age_grp</th>\n",
       "      <th></th>\n",
       "      <th></th>\n",
       "      <th></th>\n",
       "      <th></th>\n",
       "      <th></th>\n",
       "      <th></th>\n",
       "      <th></th>\n",
       "    </tr>\n",
       "  </thead>\n",
       "  <tbody>\n",
       "    <tr>\n",
       "      <th>(18, 20]</th>\n",
       "      <td>NaN</td>\n",
       "      <td>0.205128</td>\n",
       "      <td>0.025641</td>\n",
       "      <td>0.769231</td>\n",
       "      <td>NaN</td>\n",
       "      <td>NaN</td>\n",
       "      <td>NaN</td>\n",
       "    </tr>\n",
       "    <tr>\n",
       "      <th>(20, 30]</th>\n",
       "      <td>0.021401</td>\n",
       "      <td>0.206226</td>\n",
       "      <td>0.305447</td>\n",
       "      <td>0.445525</td>\n",
       "      <td>NaN</td>\n",
       "      <td>0.021401</td>\n",
       "      <td>NaN</td>\n",
       "    </tr>\n",
       "    <tr>\n",
       "      <th>(30, 40]</th>\n",
       "      <td>0.090717</td>\n",
       "      <td>0.120253</td>\n",
       "      <td>0.544304</td>\n",
       "      <td>0.204641</td>\n",
       "      <td>NaN</td>\n",
       "      <td>0.035865</td>\n",
       "      <td>0.004219</td>\n",
       "    </tr>\n",
       "    <tr>\n",
       "      <th>(40, 50]</th>\n",
       "      <td>0.137450</td>\n",
       "      <td>0.073705</td>\n",
       "      <td>0.573705</td>\n",
       "      <td>0.125498</td>\n",
       "      <td>NaN</td>\n",
       "      <td>0.065737</td>\n",
       "      <td>0.023904</td>\n",
       "    </tr>\n",
       "    <tr>\n",
       "      <th>(50, 60]</th>\n",
       "      <td>0.176596</td>\n",
       "      <td>0.068085</td>\n",
       "      <td>0.546809</td>\n",
       "      <td>0.089362</td>\n",
       "      <td>0.002128</td>\n",
       "      <td>0.057447</td>\n",
       "      <td>0.059574</td>\n",
       "    </tr>\n",
       "    <tr>\n",
       "      <th>(60, 70]</th>\n",
       "      <td>0.192744</td>\n",
       "      <td>0.043084</td>\n",
       "      <td>0.480726</td>\n",
       "      <td>0.086168</td>\n",
       "      <td>NaN</td>\n",
       "      <td>0.049887</td>\n",
       "      <td>0.147392</td>\n",
       "    </tr>\n",
       "    <tr>\n",
       "      <th>(70, 80]</th>\n",
       "      <td>0.143902</td>\n",
       "      <td>0.007317</td>\n",
       "      <td>0.317073</td>\n",
       "      <td>0.051220</td>\n",
       "      <td>NaN</td>\n",
       "      <td>0.019512</td>\n",
       "      <td>0.460976</td>\n",
       "    </tr>\n",
       "  </tbody>\n",
       "</table>\n",
       "</div>"
      ],
      "text/plain": [
       "DMDMARTL  Divorced  Living with partner   Married  Never married   Refused  \\\n",
       "age_grp                                                                      \n",
       "(18, 20]       NaN             0.205128  0.025641       0.769231       NaN   \n",
       "(20, 30]  0.021401             0.206226  0.305447       0.445525       NaN   \n",
       "(30, 40]  0.090717             0.120253  0.544304       0.204641       NaN   \n",
       "(40, 50]  0.137450             0.073705  0.573705       0.125498       NaN   \n",
       "(50, 60]  0.176596             0.068085  0.546809       0.089362  0.002128   \n",
       "(60, 70]  0.192744             0.043084  0.480726       0.086168       NaN   \n",
       "(70, 80]  0.143902             0.007317  0.317073       0.051220       NaN   \n",
       "\n",
       "DMDMARTL  Separated   Widowed  \n",
       "age_grp                        \n",
       "(18, 20]        NaN       NaN  \n",
       "(20, 30]   0.021401       NaN  \n",
       "(30, 40]   0.035865  0.004219  \n",
       "(40, 50]   0.065737  0.023904  \n",
       "(50, 60]   0.057447  0.059574  \n",
       "(60, 70]   0.049887  0.147392  \n",
       "(70, 80]   0.019512  0.460976  "
      ]
     },
     "execution_count": 55,
     "metadata": {},
     "output_type": "execute_result"
    }
   ],
   "source": [
    "da = pd.read_csv(\"nhanes_2015_2016.csv\")\n",
    "da['DMDMARTL'] = da['DMDMARTL'].replace({1:\"Married\",2:\"Widowed\",3:\"Divorced\",4:\"Separated\", 5:\"Never married\", 6:\"Living with partner\",77:\"Refused\",99:\"Don't know\"})\n",
    "da[\"RIAGENDR\"] = da[\"RIAGENDR\"].replace({1:\"Male\",2:\"Female\"})\n",
    "df = da[da[\"RIAGENDR\"] == \"Female\"]\n",
    "df['age_grp'] = pd.cut(df.RIDAGEYR,[18,20,30,40,50,60,70,80])\n",
    "marital_status= df.groupby('age_grp')['DMDMARTL'].value_counts().unstack()\n",
    "marital_status[\"sum\"] = marital_status.sum(axis = 1)\n",
    "marital_status = marital_status.div(marital_status[\"sum\"] , axis = 0)\n",
    "marital_status.drop(['sum'], axis =1, inplace = True)\n",
    "marital_status"
   ]
  },
  {
   "cell_type": "markdown",
   "metadata": {},
   "source": [
    "__Q2a.__ Comment on the trends that you see in this series of marginal distributions."
   ]
  },
  {
   "cell_type": "raw",
   "metadata": {},
   "source": [
    "We observe that the proportion of women identifying as 'divorced' or 'widowed' increases with age and the proportion of women in live-in relationships and  those who neve married consistently decreases with age. We observe that women identifying as seperated or married increases till the age of 50 after which there is a steady decline in the numbers of the two categories."
   ]
  },
  {
   "cell_type": "markdown",
   "metadata": {},
   "source": [
    "__Q2b.__ Repeat the construction for males."
   ]
  },
  {
   "cell_type": "code",
   "execution_count": 126,
   "metadata": {},
   "outputs": [
    {
     "name": "stderr",
     "output_type": "stream",
     "text": [
      "<ipython-input-126-82f4c23a6cb3>:5: SettingWithCopyWarning: \n",
      "A value is trying to be set on a copy of a slice from a DataFrame.\n",
      "Try using .loc[row_indexer,col_indexer] = value instead\n",
      "\n",
      "See the caveats in the documentation: https://pandas.pydata.org/pandas-docs/stable/user_guide/indexing.html#returning-a-view-versus-a-copy\n",
      "  df['age_grp'] = pd.cut(df.RIDAGEYR,[18,20,30,40,50,60,70,80])\n"
     ]
    },
    {
     "data": {
      "text/html": [
       "<div>\n",
       "<style scoped>\n",
       "    .dataframe tbody tr th:only-of-type {\n",
       "        vertical-align: middle;\n",
       "    }\n",
       "\n",
       "    .dataframe tbody tr th {\n",
       "        vertical-align: top;\n",
       "    }\n",
       "\n",
       "    .dataframe thead th {\n",
       "        text-align: right;\n",
       "    }\n",
       "</style>\n",
       "<table border=\"1\" class=\"dataframe\">\n",
       "  <thead>\n",
       "    <tr style=\"text-align: right;\">\n",
       "      <th>DMDMARTL</th>\n",
       "      <th>Divorced</th>\n",
       "      <th>Living with partner</th>\n",
       "      <th>Married</th>\n",
       "      <th>Never married</th>\n",
       "      <th>Refused</th>\n",
       "      <th>Separated</th>\n",
       "      <th>Widowed</th>\n",
       "    </tr>\n",
       "    <tr>\n",
       "      <th>age_grp</th>\n",
       "      <th></th>\n",
       "      <th></th>\n",
       "      <th></th>\n",
       "      <th></th>\n",
       "      <th></th>\n",
       "      <th></th>\n",
       "      <th></th>\n",
       "    </tr>\n",
       "  </thead>\n",
       "  <tbody>\n",
       "    <tr>\n",
       "      <th>(18, 20]</th>\n",
       "      <td>NaN</td>\n",
       "      <td>0.075000</td>\n",
       "      <td>0.025000</td>\n",
       "      <td>0.900000</td>\n",
       "      <td>NaN</td>\n",
       "      <td>NaN</td>\n",
       "      <td>NaN</td>\n",
       "    </tr>\n",
       "    <tr>\n",
       "      <th>(20, 30]</th>\n",
       "      <td>0.004630</td>\n",
       "      <td>0.212963</td>\n",
       "      <td>0.238426</td>\n",
       "      <td>0.523148</td>\n",
       "      <td>NaN</td>\n",
       "      <td>0.016204</td>\n",
       "      <td>0.004630</td>\n",
       "    </tr>\n",
       "    <tr>\n",
       "      <th>(30, 40]</th>\n",
       "      <td>0.052402</td>\n",
       "      <td>0.157205</td>\n",
       "      <td>0.563319</td>\n",
       "      <td>0.194323</td>\n",
       "      <td>0.002183</td>\n",
       "      <td>0.026201</td>\n",
       "      <td>0.004367</td>\n",
       "    </tr>\n",
       "    <tr>\n",
       "      <th>(40, 50]</th>\n",
       "      <td>0.084788</td>\n",
       "      <td>0.082294</td>\n",
       "      <td>0.703242</td>\n",
       "      <td>0.097257</td>\n",
       "      <td>NaN</td>\n",
       "      <td>0.027431</td>\n",
       "      <td>0.004988</td>\n",
       "    </tr>\n",
       "    <tr>\n",
       "      <th>(50, 60]</th>\n",
       "      <td>0.125551</td>\n",
       "      <td>0.074890</td>\n",
       "      <td>0.651982</td>\n",
       "      <td>0.103524</td>\n",
       "      <td>NaN</td>\n",
       "      <td>0.022026</td>\n",
       "      <td>0.022026</td>\n",
       "    </tr>\n",
       "    <tr>\n",
       "      <th>(60, 70]</th>\n",
       "      <td>0.125858</td>\n",
       "      <td>0.050343</td>\n",
       "      <td>0.665904</td>\n",
       "      <td>0.086957</td>\n",
       "      <td>NaN</td>\n",
       "      <td>0.032037</td>\n",
       "      <td>0.038902</td>\n",
       "    </tr>\n",
       "    <tr>\n",
       "      <th>(70, 80]</th>\n",
       "      <td>0.141791</td>\n",
       "      <td>0.022388</td>\n",
       "      <td>0.611940</td>\n",
       "      <td>0.022388</td>\n",
       "      <td>NaN</td>\n",
       "      <td>0.034826</td>\n",
       "      <td>0.166667</td>\n",
       "    </tr>\n",
       "  </tbody>\n",
       "</table>\n",
       "</div>"
      ],
      "text/plain": [
       "DMDMARTL  Divorced  Living with partner   Married  Never married   Refused  \\\n",
       "age_grp                                                                      \n",
       "(18, 20]       NaN             0.075000  0.025000       0.900000       NaN   \n",
       "(20, 30]  0.004630             0.212963  0.238426       0.523148       NaN   \n",
       "(30, 40]  0.052402             0.157205  0.563319       0.194323  0.002183   \n",
       "(40, 50]  0.084788             0.082294  0.703242       0.097257       NaN   \n",
       "(50, 60]  0.125551             0.074890  0.651982       0.103524       NaN   \n",
       "(60, 70]  0.125858             0.050343  0.665904       0.086957       NaN   \n",
       "(70, 80]  0.141791             0.022388  0.611940       0.022388       NaN   \n",
       "\n",
       "DMDMARTL  Separated   Widowed  \n",
       "age_grp                        \n",
       "(18, 20]        NaN       NaN  \n",
       "(20, 30]   0.016204  0.004630  \n",
       "(30, 40]   0.026201  0.004367  \n",
       "(40, 50]   0.027431  0.004988  \n",
       "(50, 60]   0.022026  0.022026  \n",
       "(60, 70]   0.032037  0.038902  \n",
       "(70, 80]   0.034826  0.166667  "
      ]
     },
     "execution_count": 126,
     "metadata": {},
     "output_type": "execute_result"
    }
   ],
   "source": [
    "da = pd.read_csv(\"nhanes_2015_2016.csv\")\n",
    "da['DMDMARTL'] = da['DMDMARTL'].replace({1:\"Married\",2:\"Widowed\",3:\"Divorced\",4:\"Separated\", 5:\"Never married\", 6:\"Living with partner\",77:\"Refused\",99:\"Don't know\"})\n",
    "da[\"RIAGENDR\"] = da[\"RIAGENDR\"].replace({1:\"Male\",2:\"Female\"})\n",
    "df = da[da[\"RIAGENDR\"] == \"Male\"]\n",
    "df['age_grp'] = pd.cut(df.RIDAGEYR,[18,20,30,40,50,60,70,80])\n",
    "marital_status= df.groupby('age_grp')['DMDMARTL'].value_counts().unstack()\n",
    "marital_status[\"sum\"] = marital_status.sum(axis = 1)\n",
    "marital_status = marital_status.div(marital_status[\"sum\"] , axis = 0)\n",
    "marital_status.drop(['sum'], axis =1, inplace = True)\n",
    "marital_status"
   ]
  },
  {
   "cell_type": "markdown",
   "metadata": {},
   "source": [
    "__Q2c.__ Comment on any notable differences that you see when comparing these results for females and for males."
   ]
  },
  {
   "cell_type": "raw",
   "metadata": {},
   "source": [
    "The trends among perople identifying as divorced, married, never-married or widowed are consistent among men and women. We observe stark differences in two categories: \"Living with partner\" and \"Seperated\". While the proportion of separated men increases with age, for women the proportion increases till the age of 50 after which there is a steady  decline in the ratio of seperated women and the overall population (of women). While we see that more men tend to  live-in till the age of 30 after which there is adecline in live-in numbers, the same cannot be said for women. The proportion of woemn living-in decreases consistently with age."
   ]
  },
  {
   "cell_type": "markdown",
   "metadata": {},
   "source": [
    "## Question 3\n",
    "\n",
    "Construct a histogram of the distribution of heights using the BMXHT variable in the NHANES sample."
   ]
  },
  {
   "cell_type": "code",
   "execution_count": 129,
   "metadata": {},
   "outputs": [
    {
     "data": {
      "image/png": "[encoded data removed]",
      "text/plain": [
       "<Figure size 720x504 with 1 Axes>"
      ]
     },
     "metadata": {
      "needs_background": "light"
     },
     "output_type": "display_data"
    }
   ],
   "source": [
    "da = pd.read_csv(\"nhanes_2015_2016.csv\")\n",
    "da['DMDMARTL'] = da['DMDMARTL'].replace({1:\"Married\",2:\"Widowed\",3:\"Divorced\",4:\"Separated\", 5:\"Never married\", 6:\"Living with partner\",77:\"Refused\",99:\"Don't know\"})\n",
    "da[\"RIAGENDR\"] = da[\"RIAGENDR\"].replace({1:\"Male\",2:\"Female\"})\n",
    "plt.figure(figsize = (10,7))\n",
    "sns.distplot(da['BMXHT'], kde = False, bins = 100).set_title('Distribution of heights')\n",
    "plt.show()"
   ]
  },
  {
   "cell_type": "markdown",
   "metadata": {},
   "source": [
    "__Q3a.__ Use the `bins` argument to [distplot](https://seaborn.pydata.org/generated/seaborn.distplot.html) to produce histograms with different numbers of bins.  Assess whether the default value for this argument gives a meaningful result, and comment on what happens as the number of bins grows excessively large or excessively small. "
   ]
  },
  {
   "cell_type": "raw",
   "metadata": {},
   "source": [
    "At bins = 100, we observe that the size of the bins is too small for the reader to determine the the following aspects of the histogram clearly: center and spread. At bins = 10, we see that the graph is too box-like and the reader is unable to retrieve any discernible information from the graph. We observe that the default value does a great job in balancing the granualarity of the graph, providing us with key insights with respect to the distribution."
   ]
  },
  {
   "cell_type": "markdown",
   "metadata": {},
   "source": [
    "__Q3b.__ Make separate histograms for the heights of women and men, then make a side-by-side boxplot showing the heights of women and men."
   ]
  },
  {
   "cell_type": "code",
   "execution_count": 62,
   "metadata": {},
   "outputs": [
    {
     "data": {
      "image/png": "[encoded data removed]",
      "text/plain": [
       "<Figure size 432x288 with 1 Axes>"
      ]
     },
     "metadata": {
      "needs_background": "light"
     },
     "output_type": "display_data"
    },
    {
     "data": {
      "image/png": "[encoded data removed]",
      "text/plain": [
       "<Figure size 216x432 with 2 Axes>"
      ]
     },
     "metadata": {
      "needs_background": "light"
     },
     "output_type": "display_data"
    }
   ],
   "source": [
    "sns.boxplot(x = da[\"RIAGENDR\"], y = da['BMXHT'])\n",
    "g = sns.FacetGrid(da, row = 'RIAGENDR')\n",
    "g =  g.map(plt.hist, 'BMXHT')\n",
    "plt.show()"
   ]
  },
  {
   "cell_type": "markdown",
   "metadata": {},
   "source": [
    "__Q3c.__ Comment on what features, if any are not represented clearly in the boxplots, and what features, if any, are easier to see in the boxplots than in the histograms."
   ]
  },
  {
   "cell_type": "raw",
   "metadata": {},
   "source": [
    "Boxplots fare better than histograms when comparing median values, outlier distribution and IQR range. Histograms help us determine the distribution of values, the shape of the distribution and it's spread."
   ]
  },
  {
   "cell_type": "markdown",
   "metadata": {},
   "source": [
    "## Question 4\n",
    "\n",
    "Make a boxplot showing the distribution of within-subject differences between the first and second systolic blood pressure measurents ([BPXSY1](https://wwwn.cdc.gov/Nchs/Nhanes/2015-2016/BPX_I.htm#BPXSY1) and [BPXSY2](https://wwwn.cdc.gov/Nchs/Nhanes/2015-2016/BPX_I.htm#BPXSY2))."
   ]
  },
  {
   "cell_type": "code",
   "execution_count": 65,
   "metadata": {},
   "outputs": [
    {
     "name": "stderr",
     "output_type": "stream",
     "text": [
      "/home/rishabhjain/anaconda3/lib/python3.8/site-packages/seaborn/_decorators.py:36: FutureWarning: Pass the following variable as a keyword arg: x. From version 0.12, the only valid positional argument will be `data`, and passing other arguments without an explicit keyword will result in an error or misinterpretation.\n",
      "  warnings.warn(\n"
     ]
    },
    {
     "data": {
      "text/plain": [
       "Text(0.5, 1.0, 'within-subject differences between the first and second systolic blood pressure measurents')"
      ]
     },
     "execution_count": 65,
     "metadata": {},
     "output_type": "execute_result"
    },
    {
     "data": {
      "image/png": "[encoded data removed]",
      "text/plain": [
       "<Figure size 432x288 with 1 Axes>"
      ]
     },
     "metadata": {
      "needs_background": "light"
     },
     "output_type": "display_data"
    }
   ],
   "source": [
    "da = pd.read_csv(\"nhanes_2015_2016.csv\")\n",
    "da['DMDMARTL'] = da['DMDMARTL'].replace({1:\"Married\",2:\"Widowed\",3:\"Divorced\",4:\"Separated\", 5:\"Never married\", 6:\"Living with partner\",77:\"Refused\",99:\"Don't know\"})\n",
    "da[\"RIAGENDR\"] = da[\"RIAGENDR\"].replace({1:\"Male\",2:\"Female\"})\n",
    "da['bp_difference'] = da['BPXSY2'] - da['BPXSY1']\n",
    "sns.boxplot(da['bp_difference']).set_title('within-subject differences between the first and second systolic blood pressure measurents')"
   ]
  },
  {
   "cell_type": "markdown",
   "metadata": {},
   "source": [
    "__Q4a.__ What proportion of the subjects have a lower SBP on the second reading compared to the first?"
   ]
  },
  {
   "cell_type": "code",
   "execution_count": 71,
   "metadata": {},
   "outputs": [
    {
     "data": {
      "text/plain": [
       "0.42946817785527464"
      ]
     },
     "execution_count": 71,
     "metadata": {},
     "output_type": "execute_result"
    }
   ],
   "source": [
    "da['lower_sbp'] = da['bp_difference'] < 0\n",
    "da['lower_sbp'].sum()/da['lower_sbp'].size"
   ]
  },
  {
   "cell_type": "markdown",
   "metadata": {},
   "source": [
    "__Q4b.__ Make side-by-side boxplots of the two systolic blood pressure variables."
   ]
  },
  {
   "cell_type": "code",
   "execution_count": 79,
   "metadata": {},
   "outputs": [
    {
     "ename": "AttributeError",
     "evalue": "'Text' object has no attribute 'set_ylabel'",
     "output_type": "error",
     "traceback": [
      "\u001b[0;31m---------------------------------------------------------------------------\u001b[0m",
      "\u001b[0;31mAttributeError\u001b[0m                            Traceback (most recent call last)",
      "\u001b[0;32m<ipython-input-79-50cc8c3ffdba>\u001b[0m in \u001b[0;36m<module>\u001b[0;34m\u001b[0m\n\u001b[1;32m      1\u001b[0m \u001b[0mbp\u001b[0m \u001b[0;34m=\u001b[0m \u001b[0msns\u001b[0m\u001b[0;34m.\u001b[0m\u001b[0mboxplot\u001b[0m\u001b[0;34m(\u001b[0m\u001b[0mdata\u001b[0m \u001b[0;34m=\u001b[0m \u001b[0mda\u001b[0m\u001b[0;34m[\u001b[0m\u001b[0;34m[\u001b[0m\u001b[0;34m'BPXSY2'\u001b[0m\u001b[0;34m,\u001b[0m\u001b[0;34m'BPXSY1'\u001b[0m\u001b[0;34m]\u001b[0m\u001b[0;34m]\u001b[0m\u001b[0;34m)\u001b[0m\u001b[0;34m.\u001b[0m\u001b[0mset_title\u001b[0m\u001b[0;34m(\u001b[0m\u001b[0;34m'side-by-side boxplots of the two systolic blood pressure variables'\u001b[0m\u001b[0;34m)\u001b[0m\u001b[0;34m\u001b[0m\u001b[0;34m\u001b[0m\u001b[0m\n\u001b[0;32m----> 2\u001b[0;31m \u001b[0m_\u001b[0m \u001b[0;34m=\u001b[0m \u001b[0mbp\u001b[0m\u001b[0;34m.\u001b[0m\u001b[0mset_ylabel\u001b[0m\u001b[0;34m(\u001b[0m\u001b[0;34m\"Blood pressure in mm/Hg\"\u001b[0m\u001b[0;34m)\u001b[0m\u001b[0;34m\u001b[0m\u001b[0;34m\u001b[0m\u001b[0m\n\u001b[0m",
      "\u001b[0;31mAttributeError\u001b[0m: 'Text' object has no attribute 'set_ylabel'"
     ]
    },
    {
     "data": {
      "image/png": "[encoded data removed]",
      "text/plain": [
       "<Figure size 432x288 with 1 Axes>"
      ]
     },
     "metadata": {
      "needs_background": "light"
     },
     "output_type": "display_data"
    }
   ],
   "source": [
    "\n",
    "bp = sns.boxplot(data = da[['BPXSY2','BPXSY1']]).set_title('side-by-side boxplots of the two systolic blood pressure variables')\n",
    "_ = bp.set_ylabel(\"Blood pressure in mm/Hg\")\n"
   ]
  },
  {
   "cell_type": "markdown",
   "metadata": {},
   "source": [
    "__Q4c.__ Comment on the variation within either the first or second systolic blood pressure measurements, and the variation in the within-subject differences between the first and second systolic blood pressure measurements."
   ]
  },
  {
   "cell_type": "raw",
   "metadata": {},
   "source": [
    "None whatsoever"
   ]
  },
  {
   "cell_type": "markdown",
   "metadata": {},
   "source": [
    "## Question 5\n",
    "\n",
    "Construct a frequency table of household sizes for people within each educational attainment category (the relevant variable is [DMDEDUC2](https://wwwn.cdc.gov/Nchs/Nhanes/2015-2016/DEMO_I.htm#DMDEDUC2)).  Convert the frequencies to proportions."
   ]
  },
  {
   "cell_type": "code",
   "execution_count": 97,
   "metadata": {},
   "outputs": [
    {
     "data": {
      "text/html": [
       "<div>\n",
       "<style scoped>\n",
       "    .dataframe tbody tr th:only-of-type {\n",
       "        vertical-align: middle;\n",
       "    }\n",
       "\n",
       "    .dataframe tbody tr th {\n",
       "        vertical-align: top;\n",
       "    }\n",
       "\n",
       "    .dataframe thead th {\n",
       "        text-align: right;\n",
       "    }\n",
       "</style>\n",
       "<table border=\"1\" class=\"dataframe\">\n",
       "  <thead>\n",
       "    <tr style=\"text-align: right;\">\n",
       "      <th>DMDHHSIZ</th>\n",
       "      <th>1</th>\n",
       "      <th>2</th>\n",
       "      <th>3</th>\n",
       "      <th>4</th>\n",
       "      <th>5</th>\n",
       "      <th>6</th>\n",
       "      <th>7</th>\n",
       "    </tr>\n",
       "    <tr>\n",
       "      <th>DMDEDUC2</th>\n",
       "      <th></th>\n",
       "      <th></th>\n",
       "      <th></th>\n",
       "      <th></th>\n",
       "      <th></th>\n",
       "      <th></th>\n",
       "      <th></th>\n",
       "    </tr>\n",
       "  </thead>\n",
       "  <tbody>\n",
       "    <tr>\n",
       "      <th>1.0</th>\n",
       "      <td>72.0</td>\n",
       "      <td>147.0</td>\n",
       "      <td>96.0</td>\n",
       "      <td>87.0</td>\n",
       "      <td>97.0</td>\n",
       "      <td>71.0</td>\n",
       "      <td>85.0</td>\n",
       "    </tr>\n",
       "    <tr>\n",
       "      <th>2.0</th>\n",
       "      <td>75.0</td>\n",
       "      <td>143.0</td>\n",
       "      <td>105.0</td>\n",
       "      <td>98.0</td>\n",
       "      <td>94.0</td>\n",
       "      <td>73.0</td>\n",
       "      <td>55.0</td>\n",
       "    </tr>\n",
       "    <tr>\n",
       "      <th>3.0</th>\n",
       "      <td>181.0</td>\n",
       "      <td>321.0</td>\n",
       "      <td>203.0</td>\n",
       "      <td>192.0</td>\n",
       "      <td>130.0</td>\n",
       "      <td>78.0</td>\n",
       "      <td>81.0</td>\n",
       "    </tr>\n",
       "    <tr>\n",
       "      <th>4.0</th>\n",
       "      <td>245.0</td>\n",
       "      <td>436.0</td>\n",
       "      <td>313.0</td>\n",
       "      <td>274.0</td>\n",
       "      <td>198.0</td>\n",
       "      <td>82.0</td>\n",
       "      <td>73.0</td>\n",
       "    </tr>\n",
       "    <tr>\n",
       "      <th>5.0</th>\n",
       "      <td>195.0</td>\n",
       "      <td>475.0</td>\n",
       "      <td>265.0</td>\n",
       "      <td>226.0</td>\n",
       "      <td>130.0</td>\n",
       "      <td>40.0</td>\n",
       "      <td>35.0</td>\n",
       "    </tr>\n",
       "    <tr>\n",
       "      <th>9.0</th>\n",
       "      <td>NaN</td>\n",
       "      <td>2.0</td>\n",
       "      <td>NaN</td>\n",
       "      <td>NaN</td>\n",
       "      <td>1.0</td>\n",
       "      <td>NaN</td>\n",
       "      <td>NaN</td>\n",
       "    </tr>\n",
       "  </tbody>\n",
       "</table>\n",
       "</div>"
      ],
      "text/plain": [
       "DMDHHSIZ      1      2      3      4      5     6     7\n",
       "DMDEDUC2                                               \n",
       "1.0        72.0  147.0   96.0   87.0   97.0  71.0  85.0\n",
       "2.0        75.0  143.0  105.0   98.0   94.0  73.0  55.0\n",
       "3.0       181.0  321.0  203.0  192.0  130.0  78.0  81.0\n",
       "4.0       245.0  436.0  313.0  274.0  198.0  82.0  73.0\n",
       "5.0       195.0  475.0  265.0  226.0  130.0  40.0  35.0\n",
       "9.0         NaN    2.0    NaN    NaN    1.0   NaN   NaN"
      ]
     },
     "execution_count": 97,
     "metadata": {},
     "output_type": "execute_result"
    }
   ],
   "source": [
    "da = pd.read_csv(\"nhanes_2015_2016.csv\")\n",
    "household_sizes = da.groupby('DMDEDUC2')['DMDHHSIZ'].value_counts().unstack()\n",
    "household_sizes['sum'] = household_sizes.sum(axis = 1)\n",
    "household_sizes = household_sizes.div(household_sizes[\"sum\"] , axis = 0)\n",
    "household_sizes.drop([\"sum\"], axis = 1, inplace = True)\n",
    "household_sizes"
   ]
  },
  {
   "cell_type": "markdown",
   "metadata": {},
   "source": [
    "__Q5a.__ Comment on any major differences among the distributions."
   ]
  },
  {
   "cell_type": "raw",
   "metadata": {},
   "source": []
  },
  {
   "cell_type": "markdown",
   "metadata": {},
   "source": [
    "__Q5b.__ Restrict the sample to people between 30 and 40 years of age.  Then calculate the median household size for women and men within each level of educational attainment."
   ]
  },
  {
   "cell_type": "code",
   "execution_count": 98,
   "metadata": {},
   "outputs": [
    {
     "data": {
      "text/plain": [
       "DMDEDUC2\n",
       "1.0    3.0\n",
       "2.0    4.0\n",
       "3.0    5.5\n",
       "4.0    4.0\n",
       "5.0    3.5\n",
       "Name: DMDHHSIZ, dtype: float64"
      ]
     },
     "execution_count": 98,
     "metadata": {},
     "output_type": "execute_result"
    }
   ],
   "source": [
    "da = da.where((da['RIDAGEYR'] >= 30) & (da['RIDAGEYR'] <= 40)).dropna()\n",
    "da.groupby('DMDEDUC2')['DMDHHSIZ'].median(numeric_only = True)"
   ]
  },
  {
   "cell_type": "markdown",
   "metadata": {},
   "source": [
    "## Question 6\n",
    "\n",
    "The participants can be clustered into \"maked variance units\" (MVU) based on every combination of the variables [SDMVSTRA](https://wwwn.cdc.gov/Nchs/Nhanes/2015-2016/DEMO_I.htm#SDMVSTRA) and [SDMVPSU](https://wwwn.cdc.gov/Nchs/Nhanes/2015-2016/DEMO_I.htm#SDMVPSU).  Calculate the mean age ([RIDAGEYR](https://wwwn.cdc.gov/Nchs/Nhanes/2015-2016/DEMO_I.htm#RIDAGEYR)), height ([BMXHT](https://wwwn.cdc.gov/Nchs/Nhanes/2015-2016/BMX_I.htm#BMXHT)), and BMI ([BMXBMI](https://wwwn.cdc.gov/Nchs/Nhanes/2015-2016/BMX_I.htm#BMXBMI)) for each gender ([RIAGENDR](https://wwwn.cdc.gov/Nchs/Nhanes/2015-2016/DEMO_I.htm#RIAGENDR)), within each MVU, and report the ratio between the largest and smallest mean (e.g. for height) across the MVUs."
   ]
  },
  {
   "cell_type": "code",
   "execution_count": 112,
   "metadata": {},
   "outputs": [
    {
     "name": "stdout",
     "output_type": "stream",
     "text": [
      "RIAGENDR                  1          2\n",
      "SDMVSTRA SDMVPSU                      \n",
      "119      1        47.861111  47.663265\n",
      "         2        54.363636  52.987952\n",
      "120      1        43.130000  43.636364\n",
      "         2        45.219178  43.736111\n",
      "121      1        46.750000  44.397959\n",
      "         2        42.063158  44.376344\n",
      "122      1        44.653061  42.897436\n",
      "         2        44.320000  47.333333\n",
      "123      1        47.829787  44.841121\n",
      "         2        52.126582  46.457447\n",
      "124      1        50.750000  51.664000\n",
      "         2        48.245614  42.541667\n",
      "125      1        55.165289  50.900901\n",
      "         2        49.705882  51.660000\n",
      "126      1        48.416667  46.229167\n",
      "         2        48.666667  47.205882\n",
      "127      1        53.137931  49.694444\n",
      "         2        54.070588  51.486239\n",
      "128      1        53.673267  55.638462\n",
      "         2        45.822785  45.589744\n",
      "129      1        43.922222  45.329787\n",
      "         2        45.775510  43.500000\n",
      "130      1        50.516854  47.810526\n",
      "         2        50.535354  50.833333\n",
      "131      1        53.140187  54.893617\n",
      "         2        46.778846  45.000000\n",
      "132      1        42.380435  43.210526\n",
      "         2        49.038760  51.700000\n",
      "133      1        44.054795  45.105882\n",
      "         2        47.489796  47.063158\n",
      "Max:  55.63846153846154 Min:  42.06315789473684 \n",
      "\n",
      "RIAGENDR                   1           2\n",
      "SDMVSTRA SDMVPSU                        \n",
      "119      1        172.741667  159.570408\n",
      "         2        172.906818  159.244578\n",
      "120      1        169.537755  155.402041\n",
      "         2        173.075342  159.218056\n",
      "121      1        172.177885  158.871579\n",
      "         2        174.764516  160.229032\n",
      "122      1        173.998969  161.315385\n",
      "         2        170.332323  157.231111\n",
      "123      1        174.315217  162.059615\n",
      "         2        174.454430  160.476596\n",
      "124      1        172.109009  158.788710\n",
      "         2        174.291228  162.853521\n",
      "125      1        173.631092  160.762385\n",
      "         2        174.456863  160.021429\n",
      "126      1        175.149398  160.387500\n",
      "         2        174.713043  160.892000\n",
      "127      1        171.545349  157.422430\n",
      "         2        173.366667  159.022936\n",
      "128      1        169.325000  156.339062\n",
      "         2        172.400000  160.437179\n",
      "129      1        171.094318  156.900000\n",
      "         2        173.138298  161.034259\n",
      "130      1        176.974157  161.977895\n",
      "         2        175.061224  160.060577\n",
      "131      1        175.610476  161.989362\n",
      "         2        175.091346  161.673810\n",
      "132      1        172.534066  161.508421\n",
      "         2        172.809524  159.138281\n",
      "133      1        171.509722  158.295122\n",
      "         2        171.179167  158.627368\n",
      "Max:  176.9741573033708 Min:  155.40204081632652 \n",
      "\n",
      "RIAGENDR                  1          2\n",
      "SDMVSTRA SDMVPSU                      \n",
      "119      1        26.958333  30.052041\n",
      "         2        27.160465  27.849398\n",
      "120      1        30.939175  32.419388\n",
      "         2        27.727397  27.400000\n",
      "121      1        29.416505  30.856842\n",
      "         2        26.273118  26.470968\n",
      "122      1        28.528866  29.447436\n",
      "         2        25.744444  26.611111\n",
      "123      1        29.231522  29.905769\n",
      "         2        28.811392  30.641489\n",
      "124      1        28.614414  29.533065\n",
      "         2        27.714035  28.640845\n",
      "125      1        29.727731  30.385321\n",
      "         2        29.143564  28.564286\n",
      "126      1        29.033333  31.262500\n",
      "         2        29.039130  29.612121\n",
      "127      1        31.062353  32.189720\n",
      "         2        30.557831  30.770642\n",
      "128      1        31.749000  32.303125\n",
      "         2        26.835443  27.491026\n",
      "129      1        26.493182  29.019149\n",
      "         2        28.961702  29.429630\n",
      "130      1        30.337079  30.700000\n",
      "         2        29.237755  31.490385\n",
      "131      1        28.259615  30.061702\n",
      "         2        30.077885  32.984127\n",
      "132      1        28.546154  29.848421\n",
      "         2        28.966667  30.540625\n",
      "133      1        27.495833  27.959259\n",
      "         2        27.966667  29.000000\n",
      "Max:  32.984126984126995 Min:  25.744444444444436 \n",
      "\n"
     ]
    }
   ],
   "source": [
    "da = pd.read_csv(\"nhanes_2015_2016.csv\")\n",
    "age = da.groupby(['SDMVSTRA','SDMVPSU','RIAGENDR'])['RIDAGEYR'].mean().unstack()\n",
    "print(age)\n",
    "print(\"Max: \",age.to_numpy().max(),\"Min: \",age.to_numpy().min(),'\\n')\n",
    "height = da.groupby(['SDMVSTRA','SDMVPSU','RIAGENDR'])['BMXHT'].mean().unstack()\n",
    "print(height)\n",
    "print(\"Max: \",height.to_numpy().max(),\"Min: \",height.to_numpy().min(),'\\n')\n",
    "BMI = da.groupby(['SDMVSTRA','SDMVPSU','RIAGENDR'])['BMXBMI'].mean().unstack()\n",
    "print(BMI)\n",
    "print(\"Max: \",BMI.to_numpy().max(),\"Min: \",BMI.to_numpy().min(),'\\n')"
   ]
  },
  {
   "cell_type": "markdown",
   "metadata": {},
   "source": [
    "__Q6a.__ Comment on the extent to which mean age, height, and BMI vary among the MVUs."
   ]
  },
  {
   "cell_type": "raw",
   "metadata": {},
   "source": []
  },
  {
   "cell_type": "markdown",
   "metadata": {},
   "source": [
    "__Q6b.__ Calculate the inter-quartile range (IQR) for age, height, and BMI for each gender and each MVU.  Report the ratio between the largest and smalles IQR across the MVUs."
   ]
  },
  {
   "cell_type": "code",
   "execution_count": 125,
   "metadata": {},
   "outputs": [
    {
     "name": "stdout",
     "output_type": "stream",
     "text": [
      "RIAGENDR          Female   Male\n",
      "SDMVSTRA SDMVPSU               \n",
      "119      1         31.25  29.75\n",
      "         2         33.50  29.00\n",
      "120      1         26.50  23.75\n",
      "         2         25.75  26.00\n",
      "121      1         26.25  34.50\n",
      "         2         26.00  25.50\n",
      "122      1         24.00  29.50\n",
      "         2         25.00  30.00\n",
      "123      1         30.50  28.25\n",
      "         2         34.50  31.50\n",
      "124      1         27.00  32.00\n",
      "         2         23.50  31.00\n",
      "125      1         31.00  29.00\n",
      "         2         32.25  33.50\n",
      "126      1         30.25  36.25\n",
      "         2         31.75  34.00\n",
      "127      1         27.25  30.00\n",
      "         2         30.00  28.00\n",
      "128      1         28.00  33.00\n",
      "         2         22.00  25.50\n",
      "129      1         24.75  20.75\n",
      "         2         26.25  30.75\n",
      "130      1         35.50  36.00\n",
      "         2         30.25  28.50\n",
      "131      1         35.75  36.00\n",
      "         2         24.00  28.00\n",
      "132      1         30.00  21.25\n",
      "         2         33.00  38.00\n",
      "133      1         34.00  33.00\n",
      "         2         28.50  32.25\n",
      "Max:  38.0 Min:  20.75 \n",
      "\n",
      "\n",
      "\n",
      "RIAGENDR          Female    Male\n",
      "SDMVSTRA SDMVPSU                \n",
      "119      1         9.325   9.000\n",
      "         2         9.950  11.225\n",
      "120      1         8.750  12.125\n",
      "         2        10.550  10.500\n",
      "121      1         9.150  10.725\n",
      "         2         9.600   8.600\n",
      "122      1        10.400   9.400\n",
      "         2         7.575  10.150\n",
      "123      1         9.675   9.350\n",
      "         2        11.200   9.900\n",
      "124      1         8.375   9.800\n",
      "         2         8.650  11.600\n",
      "125      1         9.100  10.350\n",
      "         2        10.675   7.925\n",
      "126      1         8.500  10.450\n",
      "         2        12.025   8.125\n",
      "127      1         7.700   9.025\n",
      "         2        11.600  10.750\n",
      "128      1         9.125   9.950\n",
      "         2        10.650   9.850\n",
      "129      1        10.375  12.300\n",
      "         2         8.900  10.700\n",
      "130      1         8.650   9.900\n",
      "         2        10.225   8.625\n",
      "131      1        10.025  10.500\n",
      "         2         7.575   7.750\n",
      "132      1        10.950  10.600\n",
      "         2        10.100  10.550\n",
      "133      1        10.300   8.925\n",
      "         2         9.550   8.850\n",
      "Max:  12.300000000000011 Min:  7.574999999999989 \n",
      "\n",
      "\n",
      "\n",
      "RIAGENDR          Female   Male\n",
      "SDMVSTRA SDMVPSU               \n",
      "119      1         9.750  5.350\n",
      "         2         9.350  5.300\n",
      "120      1         8.775  9.400\n",
      "         2         7.750  7.100\n",
      "121      1         9.000  7.500\n",
      "         2         8.100  5.700\n",
      "122      1         9.875  7.700\n",
      "         2         8.475  4.100\n",
      "123      1        10.450  8.050\n",
      "         2         9.975  8.100\n",
      "124      1         8.950  6.100\n",
      "         2         9.000  8.700\n",
      "125      1         8.000  8.300\n",
      "         2        10.325  7.900\n",
      "126      1        10.675  8.000\n",
      "         2        10.350  6.850\n",
      "127      1        11.750  8.200\n",
      "         2         9.200  5.950\n",
      "128      1         8.500  6.675\n",
      "         2         9.375  5.800\n",
      "129      1         9.500  6.025\n",
      "         2         9.725  5.800\n",
      "130      1        11.200  6.700\n",
      "         2         8.050  8.375\n",
      "131      1        11.075  7.525\n",
      "         2        10.625  7.850\n",
      "132      1        10.700  6.600\n",
      "         2        11.750  9.600\n",
      "133      1         8.300  6.425\n",
      "         2         9.650  5.900\n",
      "Max:  11.75 Min:  4.100000000000001 \n",
      "\n"
     ]
    }
   ],
   "source": [
    "da = pd.read_csv(\"nhanes_2015_2016.csv\")\n",
    "da[\"RIAGENDR\"] = da[\"RIAGENDR\"].replace({1:\"Male\",2:\"Female\"})\n",
    "age_75 = da.groupby(['SDMVSTRA','SDMVPSU','RIAGENDR'])['RIDAGEYR'].quantile(q=0.75).unstack()\n",
    "age_25 = da.groupby(['SDMVSTRA','SDMVPSU','RIAGENDR'])['RIDAGEYR'].quantile(q=0.25).unstack()\n",
    "height_75 = da.groupby(['SDMVSTRA','SDMVPSU','RIAGENDR'])['BMXHT'].quantile(q=0.75).unstack()\n",
    "height_25 = da.groupby(['SDMVSTRA','SDMVPSU','RIAGENDR'])['BMXHT'].quantile(q=0.25).unstack()\n",
    "bmi_75 = da.groupby(['SDMVSTRA','SDMVPSU','RIAGENDR'])['BMXBMI'].quantile(q=0.75).unstack()\n",
    "bmi_25 = da.groupby(['SDMVSTRA','SDMVPSU','RIAGENDR'])['BMXBMI'].quantile(q=0.25).unstack()\n",
    "print(age_75.subtract(age_25))\n",
    "age_IQR = age_75.subtract(age_25)\n",
    "print(\"Max: \",age_IQR.to_numpy().max(),\"Min: \",age_IQR.to_numpy().min(),'\\n')\n",
    "print(\"\\n\")\n",
    "print(height_75.subtract(height_25))\n",
    "height_IQR = height_75.subtract(height_25)\n",
    "print(\"Max: \",height_IQR.to_numpy().max(),\"Min: \",height_IQR.to_numpy().min(),'\\n')\n",
    "print(\"\\n\")\n",
    "print(bmi_75.subtract(bmi_25))\n",
    "bmi_IQR = bmi_75.subtract(bmi_25)\n",
    "print(\"Max: \",bmi_IQR.to_numpy().max(),\"Min: \",bmi_IQR.to_numpy().min(),'\\n')"
   ]
  },
  {
   "cell_type": "markdown",
   "metadata": {},
   "source": [
    "__Q6c.__ Comment on the extent to which the IQR for age, height, and BMI vary among the MVUs."
   ]
  },
  {
   "cell_type": "raw",
   "metadata": {},
   "source": []
  }
 ],
 "metadata": {
  "kernelspec": {
   "display_name": "Python 3",
   "language": "python",
   "name": "python3"
  },
  "language_info": {
   "codemirror_mode": {
    "name": "ipython",
    "version": 3
   },
   "file_extension": ".py",
   "mimetype": "text/x-python",
   "name": "python",
   "nbconvert_exporter": "python",
   "pygments_lexer": "ipython3",
   "version": "3.8.5"
  }
 },
 "nbformat": 4,
 "nbformat_minor": 4
}
